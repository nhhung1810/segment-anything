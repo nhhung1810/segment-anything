{
 "cells": [
  {
   "cell_type": "code",
   "execution_count": null,
   "metadata": {},
   "outputs": [],
   "source": [
    "import pandas as pd\n",
    "import numpy as np\n",
    "import matplotlib.pyplot as plt\n",
    "import seaborn as sns\n",
    "from scripts.datasets.constant import FLARE22_LABEL_ENUM\n",
    "%matplotlib inline\n",
    "\n",
    "AREA_TOP_DATA_PATH = \"../all_area_data-T.json\"\n",
    "AREA_SIDE_DATA_PATH = \"../all_area_data-W.json\"\n",
    "\n",
    "POINT_TOP_DATA_PATH = \"../all_point_data-T.json\"\n",
    "\n",
    "point_df = pd.read_json(POINT_TOP_DATA_PATH)\n",
    "point_df = point_df.T.rename(\n",
    "    columns={\n",
    "        value.value: value.name.lower() for value in FLARE22_LABEL_ENUM\n",
    "    },\n",
    ")\n"
   ]
  },
  {
   "cell_type": "code",
   "execution_count": null,
   "metadata": {},
   "outputs": [],
   "source": [
    "start_point = point_df.applymap(lambda x: x[0])\n",
    "end_point = point_df.applymap(lambda x: x[1])\n",
    "display(start_point)\n",
    "display(end_point)"
   ]
  },
  {
   "cell_type": "code",
   "execution_count": null,
   "metadata": {},
   "outputs": [],
   "source": [
    "display(start_point.describe())\n",
    "display(end_point.describe())"
   ]
  },
  {
   "cell_type": "code",
   "execution_count": null,
   "metadata": {},
   "outputs": [],
   "source": [
    "dist_point = end_point - start_point"
   ]
  },
  {
   "cell_type": "code",
   "execution_count": null,
   "metadata": {},
   "outputs": [],
   "source": [
    "dist_point.describe()"
   ]
  },
  {
   "cell_type": "code",
   "execution_count": null,
   "metadata": {},
   "outputs": [],
   "source": [
    "area_df = pd.read_json(AREA_TOP_DATA_PATH).T.rename(\n",
    "    columns={\n",
    "        value.value: value.name.lower() for value in FLARE22_LABEL_ENUM\n",
    "    },\n",
    ")\n",
    "\n",
    "max_area_projection_top = area_df.applymap(np.max)\n",
    "display(max_area_projection_top.describe())\n"
   ]
  },
  {
   "cell_type": "code",
   "execution_count": null,
   "metadata": {},
   "outputs": [],
   "source": [
    "area_df = pd.read_json(AREA_SIDE_DATA_PATH).T.rename(\n",
    "    columns={\n",
    "        value.value: value.name.lower() for value in FLARE22_LABEL_ENUM\n",
    "    },\n",
    ")\n",
    "\n",
    "max_area_projection_side = area_df.applymap(np.max)\n",
    "display(max_area_projection_side.describe())\n"
   ]
  },
  {
   "cell_type": "code",
   "execution_count": null,
   "metadata": {},
   "outputs": [],
   "source": [
    "(max_area_projection_side / max_area_projection_top).describe()"
   ]
  },
  {
   "cell_type": "code",
   "execution_count": null,
   "metadata": {},
   "outputs": [],
   "source": [
    "import itertools\n",
    "\n",
    "\n",
    "area_df = pd.read_json(AREA_TOP_DATA_PATH).T.rename(\n",
    "    columns={\n",
    "        value.value: value.name.lower() for value in FLARE22_LABEL_ENUM\n",
    "    },\n",
    ")\n",
    "\n",
    "def batched(iterable, n):\n",
    "    \"Batch data into tuples of length n. The last batch may be shorter.\"\n",
    "    # batched('ABCDEFG', 3) --> ABC DEF G\n",
    "    if n < 1:\n",
    "        raise ValueError('n must be at least one')\n",
    "    it = iter(iterable)\n",
    "    while batch := tuple(itertools.islice(it, n)):\n",
    "        yield batch\n",
    "\n",
    "def binning(data, reduce, n_bin=10):\n",
    "    return [reduce(_bin) for _bin in list(batched(data, len(data) // n_bin + 1))]\n",
    "\n",
    "def bin_exist(data, n_bin=10):\n",
    "    # Check if certain organ existed at that bin\n",
    "    return binning(data, n_bin=n_bin, reduce=lambda xs: (np.array(xs) > 0.0).any())\n",
    "\n",
    "area_df.applymap(lambda x: bin_exist(x, 10))\n"
   ]
  }
 ],
 "metadata": {
  "kernelspec": {
   "display_name": "fbrs",
   "language": "python",
   "name": "python3"
  },
  "language_info": {
   "codemirror_mode": {
    "name": "ipython",
    "version": 3
   },
   "file_extension": ".py",
   "mimetype": "text/x-python",
   "name": "python",
   "nbconvert_exporter": "python",
   "pygments_lexer": "ipython3",
   "version": "3.8.16"
  },
  "orig_nbformat": 4
 },
 "nbformat": 4,
 "nbformat_minor": 2
}
