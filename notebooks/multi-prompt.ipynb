{
 "cells": [
  {
   "cell_type": "code",
   "execution_count": 59,
   "metadata": {},
   "outputs": [],
   "source": [
    "from glob import glob\n",
    "import pandas as pd\n",
    "import numpy as np\n",
    "import matplotlib.pyplot as plt\n",
    "import seaborn as sns\n",
    "from scripts.datasets.constant import IMAGE_TYPE\n",
    "from scripts.datasets.preprocess_raw import FLARE22_Preprocess\n",
    "from scripts.utils import torch_try_load\n",
    "\n",
    "import os\n",
    "from segment_anything.build_sam import sam_model_registry\n",
    "from scripts.experiments.mask_aug.inference import class_inference, load_model\n",
    "from scripts.sam_train import SamTrain\n",
    "from segment_anything.modeling.sam import Sam\n",
    "from scripts.datasets.constant import FLARE22_LABEL_ENUM\n",
    "%matplotlib inline\n",
    "\n",
    "TRAIN_ROOT = \"../dataset/FLARE22-version1/FLARE22_LabeledCase50\"\n",
    "TRAIN_IMAGE_PATH = os.path.join(TRAIN_ROOT, \"images/*.nii.gz\")\n",
    "TRAIN_MASK_PATH = os.path.join(TRAIN_ROOT, \"labels/*.nii.gz\")\n",
    "\n",
    "VAL_ROOT = \"../dataset/FLARE22-version1/ReleaseValGT-20cases\"\n",
    "VAL_IMAGE_PATH = os.path.join(VAL_ROOT, \"images/*.nii.gz\")\n",
    "VAL_MASK_PATH = os.path.join(VAL_ROOT, \"labels/*.nii.gz\")\n",
    "\n",
    "train_images = sorted(list(glob(TRAIN_IMAGE_PATH)))\n",
    "train_masks = sorted(list(glob(TRAIN_MASK_PATH)))\n",
    "train_file = list(zip(train_images, train_masks))\n",
    "\n",
    "val_images = sorted(list(glob(VAL_IMAGE_PATH)))\n",
    "val_masks = sorted(list(glob(VAL_MASK_PATH)))\n",
    "val_file = list(zip(val_images, val_masks))\n",
    "\n",
    "val_remove = [f\"00{sym}_0000\" for sym in [\"06\",\"08\",\"21\",\"31\",\"33\",\"36\",\"38\",\"43\",\"44\",\"48\"]]\n",
    "val_file = [f for f in val_file if len(list(filter(lambda x: x in f[0], val_remove))) == 0]\n",
    "\n",
    "# MODEL_PATH = \"../runs/transfer/imp-230603-150046/model-20.pt\"\n",
    "MODEL_PATH = \"../runs/exps-230701-165310/model-20.pt\"\n",
    "\n",
    "def make_model() -> SamTrain:\n",
    "    model: Sam = sam_model_registry[\"vit_b\"](\n",
    "            checkpoint=\"../sam_vit_b_01ec64.pth\", custom=MODEL_PATH\n",
    "        )\n",
    "    sam_train = SamTrain(sam_model=model)\n",
    "    return sam_train\n"
   ]
  },
  {
   "cell_type": "code",
   "execution_count": 58,
   "metadata": {},
   "outputs": [
    {
     "name": "stdout",
     "output_type": "stream",
     "text": [
      "10\n"
     ]
    }
   ],
   "source": []
  },
  {
   "cell_type": "code",
   "execution_count": null,
   "metadata": {},
   "outputs": [],
   "source": [
    "# Statistic\n",
    "# Global Organ Centroid\n",
    "# Local-Organ Centroid\n",
    "# Area, area ratio between middle frame to the index by cohort of time-axis\n",
    "# -> have to check the consistency between train-test set"
   ]
  },
  {
   "cell_type": "code",
   "execution_count": 78,
   "metadata": {},
   "outputs": [],
   "source": [
    "from typing import Tuple\n",
    "from scripts.experiments.mask_aug.inference import get_all_organ_range\n",
    "\n",
    "\n",
    "preprocessor = FLARE22_Preprocess()\n",
    "\n",
    "def centroid_of_volume(mask_volume: np.ndarray, class_number: int):\n",
    "    coors = np.argwhere(mask_volume == class_number)\n",
    "    centroid = np.mean(coors, axis=0)\n",
    "    centroid_percent = centroid / mask_volume.shape\n",
    "    centroid = np.ceil(centroid)\n",
    "    return centroid, centroid_percent\n",
    "\n",
    "def global_centroid(mask_volume: np.ndarray) -> np.ndarray:\n",
    "    # padding for back-ground\n",
    "    result = [[[0.0, 0.0, 0.0]], [[0.0, 0.0, 0.0]]]\n",
    "    \n",
    "    for target_organ in range (1, 14):\n",
    "        cent, cent_per = centroid_of_volume(mask_volume, target_organ)\n",
    "        result[0].append(cent)\n",
    "        result[1].append(cent_per)\n",
    "\n",
    "    return np.array(result)\n",
    "\n",
    "def local_coordinate_centroid(mask_volume: np.ndarray) -> Tuple[np.ndarray, np.ndarray, np.ndarray, np.ndarray]:\n",
    "    starts, ends = get_all_organ_range(mask_volume)\n",
    "    # centroids, centroid_percents = [0], [0.0]\n",
    "    result = [[[0.0, 0.0, 0.0]], [[0.0, 0.0, 0.0]]]\n",
    "    for organ_num in range(1, 14):\n",
    "        organ_volume = (\n",
    "            mask_volume[starts[organ_num]:ends[organ_num] + 1] == organ_num).astype(np.uint16\n",
    "        )\n",
    "        # as converted  -> class number will be == 1 as for True\n",
    "        centroid, centroid_percent = centroid_of_volume(mask_volume=organ_volume, class_number=1)\n",
    "        result[0].append(centroid)\n",
    "        result[1].append(centroid_percent)\n",
    "        pass\n",
    "    \n",
    "    return np.array(result), starts, ends\n",
    "\n",
    "def centroid_by_path(image_file, gt_file, is_reversed=True):\n",
    "    volumes, masks = preprocessor.run_with_config(\n",
    "        image_file=image_file,\n",
    "        gt_file=gt_file,\n",
    "        config_name=IMAGE_TYPE.ABDOMEN_SOFT_TISSUES_ABDOMEN_LIVER,\n",
    "    )\n",
    "    if is_reversed:\n",
    "        volumes = volumes[::-1]\n",
    "        masks = masks[::-1]\n",
    "\n",
    "    global_cents = global_centroid(masks)\n",
    "    local_cents, starts, ends = local_coordinate_centroid(masks)\n",
    "    result = {\n",
    "        'global_centroids': global_cents,\n",
    "        'local_centroids': local_cents,\n",
    "        'starts': starts,\n",
    "        'ends': ends,\n",
    "        'z-axis': masks.shape[0],\n",
    "    }\n",
    "    return result\n",
    "\n",
    "entries = centroid_by_path(image_file=train_file[0][0], gt_file=train_file[0][1])\n"
   ]
  },
  {
   "cell_type": "code",
   "execution_count": 79,
   "metadata": {},
   "outputs": [
    {
     "data": {
      "text/plain": [
       "110"
      ]
     },
     "execution_count": 79,
     "metadata": {},
     "output_type": "execute_result"
    }
   ],
   "source": [
    "entries['z-axis']"
   ]
  },
  {
   "cell_type": "code",
   "execution_count": 80,
   "metadata": {},
   "outputs": [],
   "source": [
    "# Aggregate centroid feature and compare with test set\n",
    "def mean_centroid(files):\n",
    "    entries = {}\n",
    "    entries[\"global_centroids\"] = []\n",
    "    entries[\"local_centroids\"] = []\n",
    "    entries[\"starts\"] = []\n",
    "    entries[\"ends\"] = []\n",
    "    entries[\"z-axis\"] = []\n",
    "    \n",
    "    for image_file, gt_file in files:\n",
    "        features = centroid_by_path(image_file=image_file, gt_file=gt_file, is_reversed=True)\n",
    "        entries[\"global_centroids\"].append(features['global_centroids'])\n",
    "        entries[\"local_centroids\"].append(features['local_centroids'])\n",
    "        entries[\"starts\"].append(features['starts'])\n",
    "        entries[\"ends\"].append(features['ends'])\n",
    "        entries[\"z-axis\"].append(features['z-axis'])\n",
    "        pass\n",
    "    \n",
    "    result = {}\n",
    "    result[\"global_centroids\"] = np.transpose(np.stack(entries[\"global_centroids\"]), [1, 2, 0, 3]).mean(axis=-2)\n",
    "    result[\"local_centroids\"] = np.transpose(np.stack(entries[\"local_centroids\"]), [1, 2, 0, 3]).mean(axis=-2)\n",
    "    result['z-axis'] = np.mean(entries['z-axis'])\n",
    "    result['starts'] = np.mean(np.stack(entries['starts']), axis=0)\n",
    "    result['ends'] = np.mean(np.stack(entries['ends']), axis=0)\n",
    "\n",
    "    return result, entries\n",
    "\n",
    "train_result, train_entries = mean_centroid(train_file[:])\n",
    "val_result, val_entries = mean_centroid(val_file[:]) "
   ]
  },
  {
   "cell_type": "code",
   "execution_count": 81,
   "metadata": {},
   "outputs": [
    {
     "name": "stdout",
     "output_type": "stream",
     "text": [
      "====================\n",
      "[0.35235539 0.54490201 0.67218827]\n",
      "[0.38626369 0.54490201 0.67218827]\n",
      "8.98\n",
      "72.04\n",
      "95.88\n",
      "====================\n",
      "[0.31946057 0.52766557 0.64555469]\n",
      "[0.40126206 0.52766557 0.64555469]\n",
      "17.1\n",
      "84.2\n",
      "145.9\n"
     ]
    }
   ],
   "source": [
    "print(\"=\" *20)\n",
    "print(train_result['global_centroids'][1][1])\n",
    "print(train_result['local_centroids'][1][1])\n",
    "print(train_result['starts'][1])\n",
    "print(train_result['ends'][1])\n",
    "print(train_result['z-axis'])\n",
    "print(\"=\" *20)\n",
    "print(val_result['global_centroids'][1][1])\n",
    "print(val_result['local_centroids'][1][1])\n",
    "print(val_result['starts'][1])\n",
    "print(val_result['ends'][1])\n",
    "print(val_result['z-axis'])"
   ]
  },
  {
   "cell_type": "code",
   "execution_count": 83,
   "metadata": {},
   "outputs": [
    {
     "name": "stdout",
     "output_type": "stream",
     "text": [
      "[[0.         0.         0.        ]\n",
      " [0.38626369 0.54490201 0.67218827]\n",
      " [0.48156498 0.41671609 0.67028918]\n",
      " [0.4553384  0.40754253 0.25859889]\n",
      " [0.42140162 0.55588311 0.47004136]\n",
      " [0.42468646 0.45536068 0.47502494]\n",
      " [0.46189611 0.49859286 0.55371147]\n",
      " [0.41459959 0.44073697 0.58463228]\n",
      " [0.43845326 0.46663026 0.40780831]\n",
      " [0.46969292 0.61471249 0.6829716 ]\n",
      " [0.55895977 0.48290006 0.47029219]\n",
      " [0.43797963 0.60988944 0.40558907]\n",
      " [0.50134942 0.54969613 0.5321504 ]\n",
      " [0.47531588 0.41609956 0.31968864]]\n"
     ]
    }
   ],
   "source": [
    "local_mean_centroid = train_result['local_centroids'][1]\n",
    "print(local_mean_centroid)"
   ]
  },
  {
   "cell_type": "code",
   "execution_count": 106,
   "metadata": {},
   "outputs": [],
   "source": [
    "def test_centroid(files, local_mean_centroid: np.ndarray, is_reversed=True):\n",
    "    proposal_centroids = []\n",
    "    preds = []\n",
    "    for image_file, gt_file in files:\n",
    "        _, masks = preprocessor.run_with_config(image_file, gt_file, IMAGE_TYPE.ABDOMEN_SOFT_TISSUES_ABDOMEN_LIVER)\n",
    "        if is_reversed: masks = masks[::-1]\n",
    "        starts, ends = get_all_organ_range(masks)\n",
    "        dur = ends - starts\n",
    "        dur: np.ndarray = np.pad(np.reshape(dur, [-1, 1]), pad_width=[(0, 0), (0, 2)], constant_values=512)\n",
    "        # Take the centroid in z-axis of local organ, and then add back the starts\n",
    "        proposal = dur * local_mean_centroid + np.pad(np.reshape(starts, [-1, 1]), pad_width=[(0, 0), (0, 2)], constant_values=0.0)\n",
    "        proposal_centroids.append(proposal.copy())\n",
    "        proposal = np.ceil(proposal).astype(np.uint16).tolist()\n",
    "        pred = [0]\n",
    "        for organ_num in range(1, 14):\n",
    "            z, y, x  = proposal[organ_num]\n",
    "            pred.append(masks[z, y, x])\n",
    "            pass\n",
    "        preds.append(pred)\n",
    "\n",
    "    return np.array(proposal_centroids), np.array(preds)\n",
    "\n",
    "proposal_centroids, preds = test_centroid(val_file, local_mean_centroid=local_mean_centroid)\n"
   ]
  },
  {
   "cell_type": "code",
   "execution_count": 107,
   "metadata": {},
   "outputs": [
    {
     "data": {
      "text/plain": [
       "array([[ 0,  1,  0,  3,  0,  0,  0,  7,  0,  1,  0, 11,  0, 13],\n",
       "       [ 0,  1,  0,  0,  0,  5,  0,  0,  0,  1, 11,  0,  4, 13],\n",
       "       [ 0,  1,  2,  3,  5,  0,  0,  0, 13, 12, 10,  4,  0, 13],\n",
       "       [ 0,  1,  2,  3,  5,  5,  0,  0,  0,  9,  0, 11,  6, 13],\n",
       "       [ 0,  1,  0,  3,  0,  0,  0,  7,  0,  9,  0, 11,  0, 13],\n",
       "       [ 0,  1,  0,  0,  0,  5,  0,  1,  0,  0,  0, 11,  0,  0],\n",
       "       [ 0,  1,  0,  0,  0,  5,  1,  1,  4,  0,  0,  0,  0,  0],\n",
       "       [ 0,  1,  0,  0,  0,  5,  6,  0,  8,  0,  0, 11,  4, 13],\n",
       "       [ 0,  1,  2,  3,  4,  5,  1,  1,  8,  1,  0,  1,  0, 13],\n",
       "       [ 0,  1,  1, 11,  1,  1,  1,  1,  1,  0,  1,  0,  1,  4]])"
      ]
     },
     "execution_count": 107,
     "metadata": {},
     "output_type": "execute_result"
    }
   ],
   "source": [
    "preds"
   ]
  },
  {
   "cell_type": "code",
   "execution_count": 110,
   "metadata": {},
   "outputs": [
    {
     "data": {
      "text/plain": [
       "array([0.38626369, 0.54490201, 0.67218827])"
      ]
     },
     "execution_count": 110,
     "metadata": {},
     "output_type": "execute_result"
    }
   ],
   "source": [
    "local_mean_centroid[1]"
   ]
  },
  {
   "cell_type": "code",
   "execution_count": null,
   "metadata": {},
   "outputs": [],
   "source": []
  },
  {
   "cell_type": "code",
   "execution_count": 77,
   "metadata": {},
   "outputs": [
    {
     "data": {
      "text/plain": [
       "array([[[  0,   0,   0],\n",
       "        [ 22, 278, 344],\n",
       "        [ 26, 213, 343],\n",
       "        [ 11, 208, 132],\n",
       "        [ 18, 284, 240],\n",
       "        [ 37, 233, 243],\n",
       "        [ 38, 255, 283],\n",
       "        [  6, 225, 299],\n",
       "        [  6, 238, 208],\n",
       "        [  2, 314, 349],\n",
       "        [ 10, 247, 240],\n",
       "        [ 17, 312, 207],\n",
       "        [ 17, 281, 272],\n",
       "        [ 14, 213, 163]],\n",
       "\n",
       "       [[  0,   0,   0],\n",
       "        [ 23, 278, 344],\n",
       "        [ 15, 213, 343],\n",
       "        [ 14, 208, 132],\n",
       "        [ 13, 284, 240],\n",
       "        [ 42, 233, 243],\n",
       "        [ 40, 255, 283],\n",
       "        [  4, 225, 299],\n",
       "        [  5, 238, 208],\n",
       "        [  8, 314, 349],\n",
       "        [ 11, 247, 240],\n",
       "        [ 17, 312, 207],\n",
       "        [ 21, 281, 272],\n",
       "        [ 17, 213, 163]]], dtype=uint16)"
      ]
     },
     "execution_count": 77,
     "metadata": {},
     "output_type": "execute_result"
    }
   ],
   "source": [
    "np.array(proposal_centroids, dtype=np.uint16)"
   ]
  },
  {
   "cell_type": "code",
   "execution_count": 71,
   "metadata": {},
   "outputs": [
    {
     "data": {
      "text/plain": [
       "array([[  0.  , 512.  , 512.  ],\n",
       "       [  8.98, 512.  , 512.  ],\n",
       "       [ 38.46, 512.  , 512.  ],\n",
       "       [ 17.42, 512.  , 512.  ],\n",
       "       [ 35.4 , 512.  , 512.  ],\n",
       "       [  0.  , 512.  , 512.  ],\n",
       "       [  9.22, 512.  , 512.  ],\n",
       "       [ 29.78, 512.  , 512.  ],\n",
       "       [ 33.08, 512.  , 512.  ],\n",
       "       [ 42.14, 512.  , 512.  ],\n",
       "       [  0.  , 512.  , 512.  ],\n",
       "       [ 18.16, 512.  , 512.  ],\n",
       "       [ 41.6 , 512.  , 512.  ],\n",
       "       [ 37.36, 512.  , 512.  ],\n",
       "       [512.  , 512.  , 512.  ],\n",
       "       [512.  , 512.  , 512.  ]])"
      ]
     },
     "execution_count": 71,
     "metadata": {},
     "output_type": "execute_result"
    }
   ],
   "source": [
    "np.pad(np.reshape(train_result['starts'], [-1, 1]), pad_width=[(0, 2)], constant_values=512)"
   ]
  },
  {
   "cell_type": "code",
   "execution_count": 2,
   "metadata": {},
   "outputs": [],
   "source": [
    "\n",
    "# preprocessor = FLARE22_Preprocess()\n",
    "# volumes, masks = preprocessor.run_with_config(\n",
    "#             image_file=IMAGE_PATH,\n",
    "#             gt_file=MASK_PATH,\n",
    "#             config_name=IMAGE_TYPE.ABDOMEN_SOFT_TISSUES_ABDOMEN_LIVER,\n",
    "#         )\n",
    "# cache_volume = torch_try_load(VOLUME_CACHE, 'cpu')\n"
   ]
  },
  {
   "cell_type": "code",
   "execution_count": 3,
   "metadata": {},
   "outputs": [],
   "source": []
  },
  {
   "cell_type": "code",
   "execution_count": null,
   "metadata": {},
   "outputs": [],
   "source": [
    "# %matplotlib widget\n",
    "# from ipywidgets import widgets\n",
    "# import matplotlib.pyplot as plt\n",
    "\n",
    "# organ_idx = FLARE22_LABEL_ENUM.LIVER.value\n",
    "# percent = 0.\n",
    "# fig, axes = plt.subplots(1, 2)\n",
    "\n",
    "# def f(percent):\n",
    "#     idx = int((ends[1] - starts[1]) * percent) + starts[1]\n",
    "#     axes[0].imshow(masks[idx])\n",
    "#     axes[1].imshow(masks[idx] == 1.0)\n",
    "#     axes[1].plot(274, 344, marker=\"o\", markersize=5)\n",
    "#     axes[1].set_title(f'Frame: {idx}')\n",
    "#     fig.canvas.draw()\n",
    "#     pass\n",
    "\n",
    "# axes[0].imshow(masks[0])\n",
    "# axes[1].imshow(masks[0] == 1.0)\n",
    "\n",
    "# widgets.interact(f, percent=widgets.FloatSlider(min=0.0, max=1.0, step=0.02, value=0.0))"
   ]
  },
  {
   "cell_type": "code",
   "execution_count": null,
   "metadata": {},
   "outputs": [],
   "source": []
  },
  {
   "cell_type": "code",
   "execution_count": 4,
   "metadata": {},
   "outputs": [],
   "source": [
    "# As proven from another EDA, we will start to flip the mask and image for more consistent data\n",
    "\n",
    "volumes, masks = preprocessor.run_with_config(\n",
    "    image_file=IMAGE_PATH,\n",
    "    gt_file=MASK_PATH,\n",
    "    config_name=IMAGE_TYPE.ABDOMEN_SOFT_TISSUES_ABDOMEN_LIVER,\n",
    ")\n",
    "\n",
    "# Reversed\n",
    "volumes = volumes[::-1]\n",
    "masks = masks[::-1]\n",
    "\n",
    "\n",
    "# centroid_by_path(IMAGE_PATH, MASK_PATH)\n"
   ]
  },
  {
   "cell_type": "code",
   "execution_count": 5,
   "metadata": {},
   "outputs": [
    {
     "name": "stderr",
     "output_type": "stream",
     "text": [
      "0it [00:00, ?it/s]"
     ]
    },
    {
     "name": "stderr",
     "output_type": "stream",
     "text": [
      "50it [01:18,  1.56s/it]\n"
     ]
    }
   ],
   "source": [
    "import glob\n",
    "\n",
    "from tqdm import tqdm\n",
    "\n",
    "\n",
    "TRAIN_ROOT = \"../dataset/FLARE22-version1/FLARE22_LabeledCase50/\"\n",
    "image_list = sorted(glob.glob(f\"{TRAIN_ROOT}/images/*.nii.gz\"))\n",
    "label_list = sorted(glob.glob(f\"{TRAIN_ROOT}/labels/*.nii.gz\"))\n",
    "\n",
    "entries = []\n",
    "for image_file, gt_file in tqdm(zip(image_list, label_list)):\n",
    "    entries.append(centroid_by_path(image_file, gt_file))\n",
    "    pass\n",
    "entries = np.array(entries)\n"
   ]
  },
  {
   "cell_type": "code",
   "execution_count": 6,
   "metadata": {},
   "outputs": [
    {
     "data": {
      "text/html": [
       "<div>\n",
       "<style scoped>\n",
       "    .dataframe tbody tr th:only-of-type {\n",
       "        vertical-align: middle;\n",
       "    }\n",
       "\n",
       "    .dataframe tbody tr th {\n",
       "        vertical-align: top;\n",
       "    }\n",
       "\n",
       "    .dataframe thead th {\n",
       "        text-align: right;\n",
       "    }\n",
       "</style>\n",
       "<table border=\"1\" class=\"dataframe\">\n",
       "  <thead>\n",
       "    <tr style=\"text-align: right;\">\n",
       "      <th></th>\n",
       "      <th>0</th>\n",
       "      <th>1</th>\n",
       "      <th>2</th>\n",
       "    </tr>\n",
       "  </thead>\n",
       "  <tbody>\n",
       "    <tr>\n",
       "      <th>count</th>\n",
       "      <td>50.000000</td>\n",
       "      <td>50.000000</td>\n",
       "      <td>50.000000</td>\n",
       "    </tr>\n",
       "    <tr>\n",
       "      <th>mean</th>\n",
       "      <td>0.352355</td>\n",
       "      <td>0.544902</td>\n",
       "      <td>0.672188</td>\n",
       "    </tr>\n",
       "    <tr>\n",
       "      <th>std</th>\n",
       "      <td>0.058914</td>\n",
       "      <td>0.040365</td>\n",
       "      <td>0.029776</td>\n",
       "    </tr>\n",
       "    <tr>\n",
       "      <th>min</th>\n",
       "      <td>0.212490</td>\n",
       "      <td>0.447049</td>\n",
       "      <td>0.592080</td>\n",
       "    </tr>\n",
       "    <tr>\n",
       "      <th>25%</th>\n",
       "      <td>0.321103</td>\n",
       "      <td>0.521037</td>\n",
       "      <td>0.655094</td>\n",
       "    </tr>\n",
       "    <tr>\n",
       "      <th>50%</th>\n",
       "      <td>0.352454</td>\n",
       "      <td>0.549945</td>\n",
       "      <td>0.676175</td>\n",
       "    </tr>\n",
       "    <tr>\n",
       "      <th>75%</th>\n",
       "      <td>0.382750</td>\n",
       "      <td>0.566720</td>\n",
       "      <td>0.692510</td>\n",
       "    </tr>\n",
       "    <tr>\n",
       "      <th>max</th>\n",
       "      <td>0.490270</td>\n",
       "      <td>0.654832</td>\n",
       "      <td>0.724651</td>\n",
       "    </tr>\n",
       "  </tbody>\n",
       "</table>\n",
       "</div>"
      ],
      "text/plain": [
       "               0          1          2\n",
       "count  50.000000  50.000000  50.000000\n",
       "mean    0.352355   0.544902   0.672188\n",
       "std     0.058914   0.040365   0.029776\n",
       "min     0.212490   0.447049   0.592080\n",
       "25%     0.321103   0.521037   0.655094\n",
       "50%     0.352454   0.549945   0.676175\n",
       "75%     0.382750   0.566720   0.692510\n",
       "max     0.490270   0.654832   0.724651"
      ]
     },
     "execution_count": 6,
     "metadata": {},
     "output_type": "execute_result"
    }
   ],
   "source": [
    "import pandas\n",
    "organ_idx = 1\n",
    "pandas.DataFrame(entries[:, 1, organ_idx, :]).describe()"
   ]
  },
  {
   "cell_type": "code",
   "execution_count": 8,
   "metadata": {},
   "outputs": [
    {
     "data": {
      "image/png": "[encoded data removed]",
      "text/plain": [
       "<Figure size 640x480 with 1 Axes>"
      ]
     },
     "metadata": {},
     "output_type": "display_data"
    }
   ],
   "source": [
    "# sample, [coors or coors_percent], organ_idx, [x, y, z] = result.shape\n",
    "from scripts.datasets.constant import FLARE22_LABEL_ENUM\n",
    "organ_idx = FLARE22_LABEL_ENUM.LIVER.value\n",
    "zs = entries[:, 1, organ_idx, :][:, 0]\n",
    "ys = entries[:, 1, organ_idx, :][:, 1]\n",
    "xs = entries[:, 1, organ_idx, :][:, 2]\n",
    "\n",
    "mean_coordinate = np.mean(entries[:, 1, organ_idx, :], axis=0)\n",
    "x_mean, y_mean, z_mean = mean_coordinate[2], mean_coordinate[1], mean_coordinate[0]\n",
    "\n",
    "fig, ax = plt.subplots(subplot_kw={\"projection\": \"3d\"})\n",
    "ax.scatter(xs, ys, zs, marker='o', alpha=0.5)\n",
    "ax.scatter(x_mean, y_mean, z_mean, marker='^', s=20)\n",
    "ax.set_xlim(0.0, 1.0)\n",
    "ax.set_ylim(0.0, 1.0)\n",
    "ax.set_zlim(0.0, 1.0)\n",
    "plt.show()"
   ]
  },
  {
   "cell_type": "code",
   "execution_count": 10,
   "metadata": {},
   "outputs": [
    {
     "data": {
      "text/plain": [
       "(0.6721882690535713, 0.5449020087665863, 0.352355387374095)"
      ]
     },
     "execution_count": 10,
     "metadata": {},
     "output_type": "execute_result"
    }
   ],
   "source": [
    "x_mean, y_mean, z_mean"
   ]
  },
  {
   "cell_type": "code",
   "execution_count": 9,
   "metadata": {},
   "outputs": [
    {
     "data": {
      "image/png": "[encoded data removed]",
      "text/plain": [
       "<Figure size 640x480 with 2 Axes>"
      ]
     },
     "metadata": {},
     "output_type": "display_data"
    }
   ],
   "source": [
    "fig, axes = plt.subplots(1, 2)\n",
    "axes[0].imshow(masks[141])\n",
    "axes[1].imshow(masks[141] == 1.0)\n",
    "axes[1].plot(344, 274, marker=\"o\", markersize=5)\n",
    "plt.show()"
   ]
  },
  {
   "cell_type": "code",
   "execution_count": null,
   "metadata": {},
   "outputs": [],
   "source": [
    "def confidence_score(logits, threshold):\n",
    "    # Idea: confidence is high when the prob of \n",
    "    # foreground high and prob of background is low\n",
    "    foreground_score = np.mean(logits[logits >= threshold])\n",
    "    background_score = 1.0 - np.mean(logits[logits < threshold])\n",
    "    return np.mean([foreground_score, background_score])"
   ]
  }
 ],
 "metadata": {
  "kernelspec": {
   "display_name": "fbrs",
   "language": "python",
   "name": "python3"
  },
  "language_info": {
   "codemirror_mode": {
    "name": "ipython",
    "version": 3
   },
   "file_extension": ".py",
   "mimetype": "text/x-python",
   "name": "python",
   "nbconvert_exporter": "python",
   "pygments_lexer": "ipython3",
   "version": "3.8.16"
  },
  "orig_nbformat": 4
 },
 "nbformat": 4,
 "nbformat_minor": 2
}
